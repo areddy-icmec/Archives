{
 "cells": [
  {
   "cell_type": "markdown",
   "metadata": {},
   "source": [
    "#Reading data "
   ]
  },
  {
   "cell_type": "code",
   "execution_count": null,
   "metadata": {
    "vscode": {
     "languageId": "python"
    }
   },
   "outputs": [],
   "source": [
    "import pandas as pd \n",
    "#from pandas_profiling import ProfileReport\n",
    "import pyarrow"
   ]
  },
  {
   "cell_type": "code",
   "execution_count": null,
   "metadata": {
    "vscode": {
     "languageId": "python"
    }
   },
   "outputs": [],
   "source": [
    "#Converting the datetime time \n",
    "# pd.to_datetime(df.user_regdate   , unit= 's' )"
   ]
  },
  {
   "cell_type": "code",
   "execution_count": 15,
   "metadata": {
    "vscode": {
     "languageId": "python"
    }
   },
   "outputs": [
    {
     "data": {
      "text/plain": [
       "int64     47\n",
       "object    27\n",
       "dtype: int64"
      ]
     },
     "execution_count": 15,
     "metadata": {},
     "output_type": "execute_result"
    }
   ],
   "source": [
    "df = pd.read_json('/Users/icmec/Documents/Black Town/data/phpbb_users copy.json', lines=True )\n",
    "df.dtypes.value_counts()"
   ]
  },
  {
   "cell_type": "code",
   "execution_count": 3,
   "metadata": {
    "vscode": {
     "languageId": "python"
    }
   },
   "outputs": [
    {
     "ename": "ImportError",
     "evalue": "Unable to find a usable engine; tried using: 'pyarrow', 'fastparquet'.\nA suitable version of pyarrow or fastparquet is required for parquet support.\nTrying to import the above resulted in these errors:\n - Missing optional dependency 'pyarrow'. pyarrow is required for parquet support. Use pip or conda to install pyarrow.\n - Missing optional dependency 'fastparquet'. fastparquet is required for parquet support. Use pip or conda to install fastparquet.",
     "output_type": "error",
     "traceback": [
      "\u001b[0;31m---------------------------------------------------------------------------\u001b[0m",
      "\u001b[0;31mImportError\u001b[0m                               Traceback (most recent call last)",
      "\u001b[1;32m/Users/icmec/Documents/ProjectCastle/main.ipynb Cell 5\u001b[0m in \u001b[0;36m1\n\u001b[0;32m----> <a href='vscode-notebook-cell:/Users/icmec/Documents/ProjectCastle/main.ipynb#W4sZmlsZQ%3D%3D?line=0'>1</a>\u001b[0m parqDf \u001b[39m=\u001b[39m pd\u001b[39m.\u001b[39mread_parquet(\u001b[39m'\u001b[39m\u001b[39mdata/users.parquet\u001b[39m\u001b[39m'\u001b[39m)\n",
      "File \u001b[0;32m~/Documents/PythonTests/ETLs/etl/lib/python3.9/site-packages/pandas/io/parquet.py:499\u001b[0m, in \u001b[0;36mread_parquet\u001b[0;34m(path, engine, columns, storage_options, use_nullable_dtypes, **kwargs)\u001b[0m\n\u001b[1;32m    445\u001b[0m \u001b[39m@doc\u001b[39m(storage_options\u001b[39m=\u001b[39m_shared_docs[\u001b[39m\"\u001b[39m\u001b[39mstorage_options\u001b[39m\u001b[39m\"\u001b[39m])\n\u001b[1;32m    446\u001b[0m \u001b[39mdef\u001b[39;00m \u001b[39mread_parquet\u001b[39m(\n\u001b[1;32m    447\u001b[0m     path: FilePath \u001b[39m|\u001b[39m ReadBuffer[\u001b[39mbytes\u001b[39m],\n\u001b[0;32m   (...)\u001b[0m\n\u001b[1;32m    452\u001b[0m     \u001b[39m*\u001b[39m\u001b[39m*\u001b[39mkwargs,\n\u001b[1;32m    453\u001b[0m ) \u001b[39m-\u001b[39m\u001b[39m>\u001b[39m DataFrame:\n\u001b[1;32m    454\u001b[0m     \u001b[39m\"\"\"\u001b[39;00m\n\u001b[1;32m    455\u001b[0m \u001b[39m    Load a parquet object from the file path, returning a DataFrame.\u001b[39;00m\n\u001b[1;32m    456\u001b[0m \n\u001b[0;32m   (...)\u001b[0m\n\u001b[1;32m    497\u001b[0m \u001b[39m    DataFrame\u001b[39;00m\n\u001b[1;32m    498\u001b[0m \u001b[39m    \"\"\"\u001b[39;00m\n\u001b[0;32m--> 499\u001b[0m     impl \u001b[39m=\u001b[39m get_engine(engine)\n\u001b[1;32m    501\u001b[0m     \u001b[39mreturn\u001b[39;00m impl\u001b[39m.\u001b[39mread(\n\u001b[1;32m    502\u001b[0m         path,\n\u001b[1;32m    503\u001b[0m         columns\u001b[39m=\u001b[39mcolumns,\n\u001b[0;32m   (...)\u001b[0m\n\u001b[1;32m    506\u001b[0m         \u001b[39m*\u001b[39m\u001b[39m*\u001b[39mkwargs,\n\u001b[1;32m    507\u001b[0m     )\n",
      "File \u001b[0;32m~/Documents/PythonTests/ETLs/etl/lib/python3.9/site-packages/pandas/io/parquet.py:52\u001b[0m, in \u001b[0;36mget_engine\u001b[0;34m(engine)\u001b[0m\n\u001b[1;32m     49\u001b[0m         \u001b[39mexcept\u001b[39;00m \u001b[39mImportError\u001b[39;00m \u001b[39mas\u001b[39;00m err:\n\u001b[1;32m     50\u001b[0m             error_msgs \u001b[39m+\u001b[39m\u001b[39m=\u001b[39m \u001b[39m\"\u001b[39m\u001b[39m\\n\u001b[39;00m\u001b[39m - \u001b[39m\u001b[39m\"\u001b[39m \u001b[39m+\u001b[39m \u001b[39mstr\u001b[39m(err)\n\u001b[0;32m---> 52\u001b[0m     \u001b[39mraise\u001b[39;00m \u001b[39mImportError\u001b[39;00m(\n\u001b[1;32m     53\u001b[0m         \u001b[39m\"\u001b[39m\u001b[39mUnable to find a usable engine; \u001b[39m\u001b[39m\"\u001b[39m\n\u001b[1;32m     54\u001b[0m         \u001b[39m\"\u001b[39m\u001b[39mtried using: \u001b[39m\u001b[39m'\u001b[39m\u001b[39mpyarrow\u001b[39m\u001b[39m'\u001b[39m\u001b[39m, \u001b[39m\u001b[39m'\u001b[39m\u001b[39mfastparquet\u001b[39m\u001b[39m'\u001b[39m\u001b[39m.\u001b[39m\u001b[39m\\n\u001b[39;00m\u001b[39m\"\u001b[39m\n\u001b[1;32m     55\u001b[0m         \u001b[39m\"\u001b[39m\u001b[39mA suitable version of \u001b[39m\u001b[39m\"\u001b[39m\n\u001b[1;32m     56\u001b[0m         \u001b[39m\"\u001b[39m\u001b[39mpyarrow or fastparquet is required for parquet \u001b[39m\u001b[39m\"\u001b[39m\n\u001b[1;32m     57\u001b[0m         \u001b[39m\"\u001b[39m\u001b[39msupport.\u001b[39m\u001b[39m\\n\u001b[39;00m\u001b[39m\"\u001b[39m\n\u001b[1;32m     58\u001b[0m         \u001b[39m\"\u001b[39m\u001b[39mTrying to import the above resulted in these errors:\u001b[39m\u001b[39m\"\u001b[39m\n\u001b[1;32m     59\u001b[0m         \u001b[39mf\u001b[39m\u001b[39m\"\u001b[39m\u001b[39m{\u001b[39;00merror_msgs\u001b[39m}\u001b[39;00m\u001b[39m\"\u001b[39m\n\u001b[1;32m     60\u001b[0m     )\n\u001b[1;32m     62\u001b[0m \u001b[39mif\u001b[39;00m engine \u001b[39m==\u001b[39m \u001b[39m\"\u001b[39m\u001b[39mpyarrow\u001b[39m\u001b[39m\"\u001b[39m:\n\u001b[1;32m     63\u001b[0m     \u001b[39mreturn\u001b[39;00m PyArrowImpl()\n",
      "\u001b[0;31mImportError\u001b[0m: Unable to find a usable engine; tried using: 'pyarrow', 'fastparquet'.\nA suitable version of pyarrow or fastparquet is required for parquet support.\nTrying to import the above resulted in these errors:\n - Missing optional dependency 'pyarrow'. pyarrow is required for parquet support. Use pip or conda to install pyarrow.\n - Missing optional dependency 'fastparquet'. fastparquet is required for parquet support. Use pip or conda to install fastparquet."
     ]
    }
   ],
   "source": [
    "parqDf = pd.read_parquet('data/users.parquet')"
   ]
  },
  {
   "cell_type": "code",
   "execution_count": 18,
   "metadata": {
    "vscode": {
     "languageId": "python"
    }
   },
   "outputs": [
    {
     "data": {
      "text/plain": [
       "Index(['user_id', 'user_type', 'group_id', 'user_permissions',\n",
       "       'user_perm_from', 'user_ip', 'user_regdate', 'username',\n",
       "       'username_clean', 'user_password', 'user_passchg', 'user_email',\n",
       "       'user_email_hash', 'user_birthday', 'user_lastvisit', 'user_lastmark',\n",
       "       'user_lastpost_time', 'user_lastpage', 'user_last_confirm_key',\n",
       "       'user_last_search', 'user_warnings', 'user_last_warning',\n",
       "       'user_login_attempts', 'user_inactive_reason', 'user_inactive_time',\n",
       "       'user_posts', 'user_lang', 'user_timezone', 'user_dateformat',\n",
       "       'user_style', 'user_rank', 'user_colour', 'user_new_privmsg',\n",
       "       'user_unread_privmsg', 'user_last_privmsg', 'user_message_rules',\n",
       "       'user_full_folder', 'user_emailtime', 'user_topic_show_days',\n",
       "       'user_topic_sortby_type', 'user_topic_sortby_dir',\n",
       "       'user_post_show_days', 'user_post_sortby_type', 'user_post_sortby_dir',\n",
       "       'user_notify', 'user_notify_pm', 'user_notify_type', 'user_allow_pm',\n",
       "       'user_allow_viewonline', 'user_allow_viewemail', 'user_allow_massemail',\n",
       "       'user_options', 'user_avatar', 'user_avatar_type', 'user_avatar_width',\n",
       "       'user_avatar_height', 'user_sig', 'user_sig_bbcode_uid',\n",
       "       'user_sig_bbcode_bitfield', 'user_jabber', 'user_actkey',\n",
       "       'user_newpasswd', 'user_form_salt', 'user_new', 'user_reminded',\n",
       "       'user_reminded_time', 'board_announcements_status', 'user_rt_enable',\n",
       "       'user_rt_sort_start_time', 'user_rt_unread_only', 'user_rt_location',\n",
       "       'user_rt_number', 'sort_topics_by_created_time',\n",
       "       'user_imageupload_index_enable'],\n",
       "      dtype='object')"
      ]
     },
     "execution_count": 18,
     "metadata": {},
     "output_type": "execute_result"
    }
   ],
   "source": [
    "parqDf.columns"
   ]
  },
  {
   "cell_type": "code",
   "execution_count": 6,
   "metadata": {
    "vscode": {
     "languageId": "python"
    }
   },
   "outputs": [
    {
     "name": "stdout",
     "output_type": "stream",
     "text": [
      "/Users/icmec/Documents/Black Town\n"
     ]
    }
   ],
   "source": [
    "/Users/icmec/Documents/environments/etl/bin/python"
   ]
  },
  {
   "cell_type": "code",
   "execution_count": 12,
   "metadata": {
    "vscode": {
     "languageId": "python"
    }
   },
   "outputs": [],
   "source": [
    "df.to_parquet('data/users.parquet')"
   ]
  },
  {
   "cell_type": "code",
   "execution_count": 13,
   "metadata": {
    "vscode": {
     "languageId": "python"
    }
   },
   "outputs": [
    {
     "ename": "AttributeError",
     "evalue": "'DataFrame' object has no attribute 'show'",
     "output_type": "error",
     "traceback": [
      "\u001b[0;31m---------------------------------------------------------------------------\u001b[0m",
      "\u001b[0;31mAttributeError\u001b[0m                            Traceback (most recent call last)",
      "Cell \u001b[0;32mIn[13], line 1\u001b[0m\n\u001b[0;32m----> 1\u001b[0m \u001b[43mdf\u001b[49m\u001b[38;5;241;43m.\u001b[39;49m\u001b[43mshow\u001b[49m(\u001b[38;5;241m10\u001b[39m)\n",
      "File \u001b[0;32m~/Documents/Black Town/env/lib/python3.9/site-packages/pandas/core/generic.py:5902\u001b[0m, in \u001b[0;36mNDFrame.__getattr__\u001b[0;34m(self, name)\u001b[0m\n\u001b[1;32m   5895\u001b[0m \u001b[39mif\u001b[39;00m (\n\u001b[1;32m   5896\u001b[0m     name \u001b[39mnot\u001b[39;00m \u001b[39min\u001b[39;00m \u001b[39mself\u001b[39m\u001b[39m.\u001b[39m_internal_names_set\n\u001b[1;32m   5897\u001b[0m     \u001b[39mand\u001b[39;00m name \u001b[39mnot\u001b[39;00m \u001b[39min\u001b[39;00m \u001b[39mself\u001b[39m\u001b[39m.\u001b[39m_metadata\n\u001b[1;32m   5898\u001b[0m     \u001b[39mand\u001b[39;00m name \u001b[39mnot\u001b[39;00m \u001b[39min\u001b[39;00m \u001b[39mself\u001b[39m\u001b[39m.\u001b[39m_accessors\n\u001b[1;32m   5899\u001b[0m     \u001b[39mand\u001b[39;00m \u001b[39mself\u001b[39m\u001b[39m.\u001b[39m_info_axis\u001b[39m.\u001b[39m_can_hold_identifiers_and_holds_name(name)\n\u001b[1;32m   5900\u001b[0m ):\n\u001b[1;32m   5901\u001b[0m     \u001b[39mreturn\u001b[39;00m \u001b[39mself\u001b[39m[name]\n\u001b[0;32m-> 5902\u001b[0m \u001b[39mreturn\u001b[39;00m \u001b[39mobject\u001b[39;49m\u001b[39m.\u001b[39;49m\u001b[39m__getattribute__\u001b[39;49m(\u001b[39mself\u001b[39;49m, name)\n",
      "\u001b[0;31mAttributeError\u001b[0m: 'DataFrame' object has no attribute 'show'"
     ]
    }
   ],
   "source": [
    "df.show(10)"
   ]
  },
  {
   "cell_type": "code",
   "execution_count": 21,
   "metadata": {
    "vscode": {
     "languageId": "python"
    }
   },
   "outputs": [
    {
     "data": {
      "text/html": [
       "<div>\n",
       "<style scoped>\n",
       "    .dataframe tbody tr th:only-of-type {\n",
       "        vertical-align: middle;\n",
       "    }\n",
       "\n",
       "    .dataframe tbody tr th {\n",
       "        vertical-align: top;\n",
       "    }\n",
       "\n",
       "    .dataframe thead th {\n",
       "        text-align: right;\n",
       "    }\n",
       "</style>\n",
       "<table border=\"1\" class=\"dataframe\">\n",
       "  <thead>\n",
       "    <tr style=\"text-align: right;\">\n",
       "      <th></th>\n",
       "      <th>user_id</th>\n",
       "      <th>user_type</th>\n",
       "      <th>group_id</th>\n",
       "      <th>user_permissions</th>\n",
       "      <th>user_perm_from</th>\n",
       "      <th>user_ip</th>\n",
       "      <th>user_regdate</th>\n",
       "      <th>username</th>\n",
       "      <th>username_clean</th>\n",
       "      <th>user_password</th>\n",
       "      <th>...</th>\n",
       "      <th>user_reminded</th>\n",
       "      <th>user_reminded_time</th>\n",
       "      <th>board_announcements_status</th>\n",
       "      <th>user_rt_enable</th>\n",
       "      <th>user_rt_sort_start_time</th>\n",
       "      <th>user_rt_unread_only</th>\n",
       "      <th>user_rt_location</th>\n",
       "      <th>user_rt_number</th>\n",
       "      <th>sort_topics_by_created_time</th>\n",
       "      <th>user_imageupload_index_enable</th>\n",
       "    </tr>\n",
       "  </thead>\n",
       "  <tbody>\n",
       "    <tr>\n",
       "      <th>0</th>\n",
       "      <td>1</td>\n",
       "      <td>2</td>\n",
       "      <td>1</td>\n",
       "      <td>000000000000000000000000\\n000000000000\\n\\n0000...</td>\n",
       "      <td>0</td>\n",
       "      <td></td>\n",
       "      <td>1561893928</td>\n",
       "      <td>Anonymous</td>\n",
       "      <td>anonymous</td>\n",
       "      <td></td>\n",
       "      <td>...</td>\n",
       "      <td>0</td>\n",
       "      <td>0</td>\n",
       "      <td>1</td>\n",
       "      <td>1</td>\n",
       "      <td>0</td>\n",
       "      <td>0</td>\n",
       "      <td>RT_BOTTOM</td>\n",
       "      <td>8</td>\n",
       "      <td>0</td>\n",
       "      <td>1</td>\n",
       "    </tr>\n",
       "    <tr>\n",
       "      <th>1</th>\n",
       "      <td>2</td>\n",
       "      <td>3</td>\n",
       "      <td>2</td>\n",
       "      <td></td>\n",
       "      <td>0</td>\n",
       "      <td>127.0.0.1</td>\n",
       "      <td>1561893928</td>\n",
       "      <td>Boardadmin</td>\n",
       "      <td>boardadmin</td>\n",
       "      <td>$2y$10$veo5Ct.4Ltd0qqxwI7qvbuzqlQkSr9hud6Rh7AV...</td>\n",
       "      <td>...</td>\n",
       "      <td>0</td>\n",
       "      <td>0</td>\n",
       "      <td>1</td>\n",
       "      <td>1</td>\n",
       "      <td>0</td>\n",
       "      <td>0</td>\n",
       "      <td>RT_BOTTOM</td>\n",
       "      <td>8</td>\n",
       "      <td>0</td>\n",
       "      <td>0</td>\n",
       "    </tr>\n",
       "    <tr>\n",
       "      <th>2</th>\n",
       "      <td>48</td>\n",
       "      <td>3</td>\n",
       "      <td>4</td>\n",
       "      <td>zik0zjzik0zjyyku7zziajnk\\nwqo35rzijocg\\n\\nwqo3...</td>\n",
       "      <td>0</td>\n",
       "      <td>127.0.0.1</td>\n",
       "      <td>1561895624</td>\n",
       "      <td>NewBee</td>\n",
       "      <td>newbee</td>\n",
       "      <td>$2y$10$LlDXxgIWiGeQBn97ocDb..lf.pQKUYFDTCgKMj0...</td>\n",
       "      <td>...</td>\n",
       "      <td>0</td>\n",
       "      <td>0</td>\n",
       "      <td>1</td>\n",
       "      <td>1</td>\n",
       "      <td>0</td>\n",
       "      <td>0</td>\n",
       "      <td>RT_BOTTOM</td>\n",
       "      <td>8</td>\n",
       "      <td>0</td>\n",
       "      <td>1</td>\n",
       "    </tr>\n",
       "    <tr>\n",
       "      <th>3</th>\n",
       "      <td>49</td>\n",
       "      <td>3</td>\n",
       "      <td>5</td>\n",
       "      <td>zik0zjzik0zjyyku7zzibf9c\\nzik0zjzijocg\\n\\nzik0...</td>\n",
       "      <td>0</td>\n",
       "      <td>127.0.0.1</td>\n",
       "      <td>1561896172</td>\n",
       "      <td>Pathe</td>\n",
       "      <td>pathe</td>\n",
       "      <td>$2y$10$gP8yYXlpIVY9Mf/aDB2Umea02gxSeemcVlAdCb/...</td>\n",
       "      <td>...</td>\n",
       "      <td>0</td>\n",
       "      <td>0</td>\n",
       "      <td>1</td>\n",
       "      <td>1</td>\n",
       "      <td>1</td>\n",
       "      <td>1</td>\n",
       "      <td>RT_SIDE</td>\n",
       "      <td>8</td>\n",
       "      <td>1</td>\n",
       "      <td>1</td>\n",
       "    </tr>\n",
       "    <tr>\n",
       "      <th>4</th>\n",
       "      <td>50</td>\n",
       "      <td>1</td>\n",
       "      <td>2</td>\n",
       "      <td></td>\n",
       "      <td>0</td>\n",
       "      <td>127.0.0.1</td>\n",
       "      <td>1561896591</td>\n",
       "      <td>Progressor</td>\n",
       "      <td>progressor</td>\n",
       "      <td>$2y$10$fPCNJTC3cmndl3Ty0.LkR.GZ/mA6e8IRRZvcBkP...</td>\n",
       "      <td>...</td>\n",
       "      <td>0</td>\n",
       "      <td>0</td>\n",
       "      <td>1</td>\n",
       "      <td>1</td>\n",
       "      <td>0</td>\n",
       "      <td>0</td>\n",
       "      <td>RT_BOTTOM</td>\n",
       "      <td>8</td>\n",
       "      <td>0</td>\n",
       "      <td>1</td>\n",
       "    </tr>\n",
       "  </tbody>\n",
       "</table>\n",
       "<p>5 rows × 74 columns</p>\n",
       "</div>"
      ],
      "text/plain": [
       "   user_id  user_type  group_id  \\\n",
       "0        1          2         1   \n",
       "1        2          3         2   \n",
       "2       48          3         4   \n",
       "3       49          3         5   \n",
       "4       50          1         2   \n",
       "\n",
       "                                    user_permissions  user_perm_from  \\\n",
       "0  000000000000000000000000\\n000000000000\\n\\n0000...               0   \n",
       "1                                                                  0   \n",
       "2  zik0zjzik0zjyyku7zziajnk\\nwqo35rzijocg\\n\\nwqo3...               0   \n",
       "3  zik0zjzik0zjyyku7zzibf9c\\nzik0zjzijocg\\n\\nzik0...               0   \n",
       "4                                                                  0   \n",
       "\n",
       "     user_ip  user_regdate    username username_clean  \\\n",
       "0               1561893928   Anonymous      anonymous   \n",
       "1  127.0.0.1    1561893928  Boardadmin     boardadmin   \n",
       "2  127.0.0.1    1561895624      NewBee         newbee   \n",
       "3  127.0.0.1    1561896172       Pathe          pathe   \n",
       "4  127.0.0.1    1561896591  Progressor     progressor   \n",
       "\n",
       "                                       user_password  ...  user_reminded  \\\n",
       "0                                                     ...              0   \n",
       "1  $2y$10$veo5Ct.4Ltd0qqxwI7qvbuzqlQkSr9hud6Rh7AV...  ...              0   \n",
       "2  $2y$10$LlDXxgIWiGeQBn97ocDb..lf.pQKUYFDTCgKMj0...  ...              0   \n",
       "3  $2y$10$gP8yYXlpIVY9Mf/aDB2Umea02gxSeemcVlAdCb/...  ...              0   \n",
       "4  $2y$10$fPCNJTC3cmndl3Ty0.LkR.GZ/mA6e8IRRZvcBkP...  ...              0   \n",
       "\n",
       "  user_reminded_time  board_announcements_status user_rt_enable  \\\n",
       "0                  0                           1              1   \n",
       "1                  0                           1              1   \n",
       "2                  0                           1              1   \n",
       "3                  0                           1              1   \n",
       "4                  0                           1              1   \n",
       "\n",
       "   user_rt_sort_start_time  user_rt_unread_only  user_rt_location  \\\n",
       "0                        0                    0         RT_BOTTOM   \n",
       "1                        0                    0         RT_BOTTOM   \n",
       "2                        0                    0         RT_BOTTOM   \n",
       "3                        1                    1           RT_SIDE   \n",
       "4                        0                    0         RT_BOTTOM   \n",
       "\n",
       "  user_rt_number sort_topics_by_created_time  user_imageupload_index_enable  \n",
       "0              8                           0                              1  \n",
       "1              8                           0                              0  \n",
       "2              8                           0                              1  \n",
       "3              8                           1                              1  \n",
       "4              8                           0                              1  \n",
       "\n",
       "[5 rows x 74 columns]"
      ]
     },
     "execution_count": 21,
     "metadata": {},
     "output_type": "execute_result"
    }
   ],
   "source": [
    "df.head(5)"
   ]
  },
  {
   "cell_type": "code",
   "execution_count": 2,
   "metadata": {
    "vscode": {
     "languageId": "python"
    }
   },
   "outputs": [
    {
     "ename": "NameError",
     "evalue": "name 'df' is not defined",
     "output_type": "error",
     "traceback": [
      "\u001b[0;31m---------------------------------------------------------------------------\u001b[0m",
      "\u001b[0;31mNameError\u001b[0m                                 Traceback (most recent call last)",
      "Cell \u001b[0;32mIn[2], line 2\u001b[0m\n\u001b[1;32m      1\u001b[0m \u001b[38;5;66;03m#the type of the function \u001b[39;00m\n\u001b[0;32m----> 2\u001b[0m \u001b[43mdf\u001b[49m\u001b[38;5;241m.\u001b[39muser_regdate\n",
      "\u001b[0;31mNameError\u001b[0m: name 'df' is not defined"
     ]
    }
   ],
   "source": [
    "#the type of the function \n",
    "df.user_regdate"
   ]
  },
  {
   "cell_type": "code",
   "execution_count": null,
   "metadata": {
    "vscode": {
     "languageId": "python"
    }
   },
   "outputs": [],
   "source": [
    "#Trying out pandas profiling \n",
    "prof = ProfileReport(df)\n",
    "prof.to_file(output_file='output2.html')"
   ]
  },
  {
   "cell_type": "code",
   "execution_count": 1,
   "metadata": {
    "vscode": {
     "languageId": "python"
    }
   },
   "outputs": [
    {
     "ename": "NameError",
     "evalue": "name 'pd' is not defined",
     "output_type": "error",
     "traceback": [
      "\u001b[0;31m---------------------------------------------------------------------------\u001b[0m",
      "\u001b[0;31mNameError\u001b[0m                                 Traceback (most recent call last)",
      "Cell \u001b[0;32mIn[1], line 2\u001b[0m\n\u001b[1;32m      1\u001b[0m \u001b[38;5;66;03m#converting time stamps \u001b[39;00m\n\u001b[0;32m----> 2\u001b[0m \u001b[43mpd\u001b[49m\u001b[38;5;241m.\u001b[39mto_datetime(df\u001b[38;5;241m.\u001b[39muser_regdate   , unit\u001b[38;5;241m=\u001b[39m \u001b[38;5;124m'\u001b[39m\u001b[38;5;124ms\u001b[39m\u001b[38;5;124m'\u001b[39m )\n",
      "\u001b[0;31mNameError\u001b[0m: name 'pd' is not defined"
     ]
    }
   ],
   "source": [
    "#converting time stamps \n",
    "pd.to_datetime(df.user_regdate   , unit= 's' )\n"
   ]
  }
 ],
 "metadata": {
  "kernelspec": {
   "display_name": "Python 3 (ipykernel)",
   "language": "python",
   "name": "python3"
  },
  "orig_nbformat": 4,
  "vscode": {
   "interpreter": {
    "hash": "56aae891b498ec1ff35ffbbac1d73b4aa3cbeeaa3f546dcc0df4c2114aded3ba"
   }
  }
 },
 "nbformat": 4,
 "nbformat_minor": 2
}
