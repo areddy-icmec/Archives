{
    "metadata": {
        "kernelspec": {
            "name": "SQL",
            "display_name": "SQL",
            "language": "sql"
        },
        "language_info": {
            "name": "sql",
            "version": ""
        }
    },
    "nbformat_minor": 2,
    "nbformat": 4,
    "cells": [
        {
            "cell_type": "code",
            "source": [
                "SELECT  * FROM prod.\"bocsor.crimestats.rate\" LIMIT 5;"
            ],
            "metadata": {
                "azdata_cell_guid": "33291fde-db42-4cca-854f-e75d7a183bbe",
                "language": "sql",
                "tags": [
                    "hide_input"
                ]
            },
            "outputs": [
                {
                    "output_type": "display_data",
                    "data": {
                        "text/html": "(5 row(s) affected)"
                    },
                    "metadata": {}
                },
                {
                    "output_type": "display_data",
                    "data": {
                        "text/html": "Total execution time: 00:00:00.098"
                    },
                    "metadata": {}
                },
                {
                    "output_type": "execute_result",
                    "execution_count": 2,
                    "data": {
                        "application/vnd.dataresource+json": {
                            "schema": {
                                "fields": [
                                    {
                                        "name": "Postcode"
                                    },
                                    {
                                        "name": "Offence category"
                                    },
                                    {
                                        "name": "Subcategory"
                                    },
                                    {
                                        "name": "TotalCrimes"
                                    },
                                    {
                                        "name": "Tot_P_P"
                                    },
                                    {
                                        "name": "rate"
                                    }
                                ]
                            },
                            "data": [
                                {
                                    "0": "2000",
                                    "1": "Assault",
                                    "2": "Domestic violence related assault",
                                    "3": "231",
                                    "4": "27936",
                                    "5": "0.0082689003436426"
                                },
                                {
                                    "0": "2007",
                                    "1": "Assault",
                                    "2": "Domestic violence related assault",
                                    "3": "31",
                                    "4": "7410",
                                    "5": "0.0041835357624831"
                                },
                                {
                                    "0": "2008",
                                    "1": "Assault",
                                    "2": "Domestic violence related assault",
                                    "3": "33",
                                    "4": "10400",
                                    "5": "0.0031730769230769"
                                },
                                {
                                    "0": "2009",
                                    "1": "Assault",
                                    "2": "Domestic violence related assault",
                                    "3": "54",
                                    "4": "12658",
                                    "5": "0.0042660767893822"
                                },
                                {
                                    "0": "2010",
                                    "1": "Assault",
                                    "2": "Domestic violence related assault",
                                    "3": "136",
                                    "4": "26443",
                                    "5": "0.0051431380705668"
                                }
                            ]
                        },
                        "text/html": "<table><tr><th>Postcode</th><th>Offence category</th><th>Subcategory</th><th>TotalCrimes</th><th>Tot_P_P</th><th>rate</th></tr><tr><td>2000</td><td>Assault</td><td>Domestic violence related assault</td><td>231</td><td>27936</td><td>0.0082689003436426</td></tr><tr><td>2007</td><td>Assault</td><td>Domestic violence related assault</td><td>31</td><td>7410</td><td>0.0041835357624831</td></tr><tr><td>2008</td><td>Assault</td><td>Domestic violence related assault</td><td>33</td><td>10400</td><td>0.0031730769230769</td></tr><tr><td>2009</td><td>Assault</td><td>Domestic violence related assault</td><td>54</td><td>12658</td><td>0.0042660767893822</td></tr><tr><td>2010</td><td>Assault</td><td>Domestic violence related assault</td><td>136</td><td>26443</td><td>0.0051431380705668</td></tr></table>"
                    },
                    "metadata": {}
                }
            ],
            "execution_count": 2
        },
        {
            "cell_type": "code",
            "source": [
                "ALTER SCHEMA \"censusNswInit\" RENAME TO init;\n",
                "\n",
                "\n",
                "ALTER TABLE prod.\"bocsor.crimestats.rate\"\n",
                "  DROP \"Jan 2021\", DROP \"Feb 2021\", DROP \"Mar 2021\",DROP \"Apr 2021\",DROP \"May 2021\",DROP \"Jun 2021\",\n",
                "       DROP \"Jul 2021\",DROP \"Aug 2021\",DROP \"Sep 2021\",DROP \"Oct 2021\",DROP \"Nov 2021\",DROP \"Dec 2021\";\n",
                "\t   \n",
                "ALTER TABLE prod.\"bocsor.crimestats.rate\" DROP \"Unnamed: 0\";\n",
                "\n",
                "SELECT * FROM prod.\"bocsor.crimestats.rate\""
            ],
            "metadata": {
                "azdata_cell_guid": "c88ebaa4-2002-4f70-9fb3-205cf23d6653",
                "language": "sql"
            },
            "outputs": [],
            "execution_count": null
        },
        {
            "cell_type": "code",
            "source": [
                "GRANT USAGE on SCHEMA init TO \"nico\";\n",
                "GRANT USAGE on SCHEMA init TO \"claudio\";\n",
                "GRANT ALL ON ALL TABLES IN SCHEMA init TO \"claudio\" ;\n",
                "GRANT ALL ON ALL TABLES IN SCHEMA init TO \"nico\" ;\n",
                ""
            ],
            "metadata": {
                "language": "sql",
                "azdata_cell_guid": "9658beaa-8ba2-423b-a612-6b3af05ace94"
            },
            "outputs": [
                {
                    "output_type": "display_data",
                    "data": {
                        "text/html": "Commands completed successfully"
                    },
                    "metadata": {}
                },
                {
                    "output_type": "display_data",
                    "data": {
                        "text/html": "Commands completed successfully"
                    },
                    "metadata": {}
                },
                {
                    "output_type": "display_data",
                    "data": {
                        "text/html": "Total execution time: 00:00:00.051"
                    },
                    "metadata": {}
                }
            ],
            "execution_count": 7
        },
        {
            "cell_type": "code",
            "source": [
                "GRANT ALL ON ALL TABLES IN SCHEMA init TO \"claudio\" ;\n",
                "GRANT ALL ON ALL TABLES IN SCHEMA init TO \"nico\" ;"
            ],
            "metadata": {
                "language": "sql",
                "azdata_cell_guid": "13315200-0ec9-4ad2-ab51-035ffaca2604"
            },
            "outputs": [
                {
                    "output_type": "display_data",
                    "data": {
                        "text/html": "Commands completed successfully"
                    },
                    "metadata": {}
                },
                {
                    "output_type": "display_data",
                    "data": {
                        "text/html": "Commands completed successfully"
                    },
                    "metadata": {}
                },
                {
                    "output_type": "display_data",
                    "data": {
                        "text/html": "Total execution time: 00:00:00.057"
                    },
                    "metadata": {}
                }
            ],
            "execution_count": 10
        },
        {
            "cell_type": "code",
            "source": [
                "ALTER TABLE  prod.\"bocsor.crimestats.rate\" RENAME TO \"bocsar.crimestats.rate\"; \n",
                "\n",
                ""
            ],
            "metadata": {
                "language": "sql",
                "azdata_cell_guid": "5cc502f5-54e0-4634-a6ee-d10d1fb1d536"
            },
            "outputs": [
                {
                    "output_type": "display_data",
                    "data": {
                        "text/html": "Commands completed successfully"
                    },
                    "metadata": {}
                },
                {
                    "output_type": "display_data",
                    "data": {
                        "text/html": "Total execution time: 00:00:00.028"
                    },
                    "metadata": {}
                }
            ],
            "execution_count": 14
        },
        {
            "cell_type": "code",
            "source": [
                "ALTER TABLE  init.\"bocsor.crimestats\" RENAME TO \"bocsar.crimestats\"; "
            ],
            "metadata": {
                "language": "sql",
                "azdata_cell_guid": "66b14425-a443-4e63-bd73-8ae0c4a7319a"
            },
            "outputs": [
                {
                    "output_type": "display_data",
                    "data": {
                        "text/html": "Commands completed successfully"
                    },
                    "metadata": {}
                },
                {
                    "output_type": "display_data",
                    "data": {
                        "text/html": "Total execution time: 00:00:00.024"
                    },
                    "metadata": {}
                }
            ],
            "execution_count": 16
        },
        {
            "cell_type": "code",
            "source": [
                "with view1 AS ( SELECT DISTINCT * from dev.\"PodioData\"  )   SELECT COUNT(*) FROM view1"
            ],
            "metadata": {
                "language": "sql",
                "azdata_cell_guid": "d957272a-03fc-4307-9347-1dc8d5e213ed"
            },
            "outputs": [
                {
                    "output_type": "display_data",
                    "data": {
                        "text/html": "(1 row(s) affected)"
                    },
                    "metadata": {}
                },
                {
                    "output_type": "display_data",
                    "data": {
                        "text/html": "Total execution time: 00:00:00.108"
                    },
                    "metadata": {}
                },
                {
                    "output_type": "execute_result",
                    "execution_count": 12,
                    "data": {
                        "application/vnd.dataresource+json": {
                            "schema": {
                                "fields": [
                                    {
                                        "name": "count"
                                    }
                                ]
                            },
                            "data": [
                                {
                                    "0": "1888"
                                }
                            ]
                        },
                        "text/html": "<table><tr><th>count</th></tr><tr><td>1888</td></tr></table>"
                    },
                    "metadata": {}
                }
            ],
            "execution_count": 12
        },
        {
            "cell_type": "code",
            "source": [
                "SELECT DISTINCT \"Subcategory\"  FROM prod.\"bocsar.crimestats.rate\""
            ],
            "metadata": {
                "language": "sql",
                "azdata_cell_guid": "f86fd969-0167-4be4-b97d-5824982e1607"
            },
            "outputs": [
                {
                    "output_type": "display_data",
                    "data": {
                        "text/html": "(8 row(s) affected)"
                    },
                    "metadata": {}
                },
                {
                    "output_type": "display_data",
                    "data": {
                        "text/html": "Total execution time: 00:00:00.111"
                    },
                    "metadata": {}
                },
                {
                    "output_type": "execute_result",
                    "metadata": {},
                    "execution_count": 2,
                    "data": {
                        "application/vnd.dataresource+json": {
                            "schema": {
                                "fields": [
                                    {
                                        "name": "Subcategory"
                                    }
                                ]
                            },
                            "data": [
                                {
                                    "0": "Abduction and kidnapping"
                                },
                                {
                                    "0": "Domestic violence related assault"
                                },
                                {
                                    "0": "Pornography offences"
                                },
                                {
                                    "0": "Intimidation, stalking and harassment"
                                },
                                {
                                    "0": "Prostitution offences"
                                },
                                {
                                    "0": "Blackmail and extortion"
                                },
                                {
                                    "0": "Sexual touching, sexual act and other sexual offences"
                                },
                                {
                                    "0": "Sexual assault"
                                }
                            ]
                        },
                        "text/html": [
                            "<table>",
                            "<tr><th>Subcategory</th></tr>",
                            "<tr><td>Abduction and kidnapping</td></tr>",
                            "<tr><td>Domestic violence related assault</td></tr>",
                            "<tr><td>Pornography offences</td></tr>",
                            "<tr><td>Intimidation, stalking and harassment</td></tr>",
                            "<tr><td>Prostitution offences</td></tr>",
                            "<tr><td>Blackmail and extortion</td></tr>",
                            "<tr><td>Sexual touching, sexual act and other sexual offences</td></tr>",
                            "<tr><td>Sexual assault</td></tr>",
                            "</table>"
                        ]
                    }
                }
            ],
            "execution_count": 2
        },
        {
            "cell_type": "code",
            "source": [
                "DROP TABLE prod.\"bocsor.crimestats.rate\""
            ],
            "metadata": {
                "language": "sql",
                "azdata_cell_guid": "7f09a830-e8ba-49be-8dc0-cf623b6f6fac"
            },
            "outputs": [
                {
                    "output_type": "display_data",
                    "data": {
                        "text/html": "Commands completed successfully"
                    },
                    "metadata": {}
                },
                {
                    "output_type": "display_data",
                    "data": {
                        "text/html": "Total execution time: 00:00:00.031"
                    },
                    "metadata": {}
                }
            ],
            "execution_count": 3
        }
    ]
}