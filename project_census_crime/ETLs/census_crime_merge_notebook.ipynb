{
 "cells": [
  {
   "cell_type": "markdown",
   "metadata": {},
   "source": [
    "## <b>This notebook merges the crime and census data</b>\n",
    "The merged datasets( consolidated crime and census datasets) are loaded into the datawarehouse ( AWS RDS Postgres )\n",
    "***"
   ]
  },
  {
   "cell_type": "markdown",
   "metadata": {},
   "source": [
    "### <b>Modules Required</b>"
   ]
  },
  {
   "cell_type": "code",
   "execution_count": 2,
   "metadata": {},
   "outputs": [
    {
     "name": "stdout",
     "output_type": "stream",
     "text": [
      "The autoreload extension is already loaded. To reload it, use:\n",
      "  %reload_ext autoreload\n"
     ]
    }
   ],
   "source": [
    "%load_ext autoreload\n",
    "%autoreload 2\n",
    "from etl_helper import * \n",
    "\n",
    "\n",
    "import pandas as pd\n",
    "import glob\n",
    "import os \n",
    "import numpy as np\n",
    "import re\n",
    "\n",
    "import configparser\n",
    "from etl_helper import * \n",
    "\n",
    "\n",
    " \n",
    "import configparser\n",
    "\n",
    "import sqlalchemy\n",
    "from sqlalchemy import create_engine\n",
    "from sqlalchemy.orm import sessionmaker"
   ]
  },
  {
   "cell_type": "markdown",
   "metadata": {},
   "source": [
    "### <b>POA</b>"
   ]
  },
  {
   "cell_type": "markdown",
   "metadata": {},
   "source": [
    "#### Combine the merged (census merged ) and the crime dataset "
   ]
  },
  {
   "cell_type": "code",
   "execution_count": null,
   "metadata": {},
   "outputs": [],
   "source": [
    "crim_categories = GetData('''SELECT \"Subcategory\" FROM prod.\"bocsar.crimestats.rate\" GROUP BY \"Subcategory\";''')\n"
   ]
  },
  {
   "cell_type": "code",
   "execution_count": null,
   "metadata": {},
   "outputs": [],
   "source": [
    "crim_categories"
   ]
  },
  {
   "cell_type": "code",
   "execution_count": null,
   "metadata": {},
   "outputs": [],
   "source": [
    "gcp_Data_from_RDS = GetData('''SELECT * FROM stage.\"2021_census.gcp_all.poa\";''')\n"
   ]
  },
  {
   "cell_type": "code",
   "execution_count": null,
   "metadata": {},
   "outputs": [],
   "source": [
    "gcp_Data_from_RDS.T\n"
   ]
  },
  {
   "cell_type": "code",
   "execution_count": null,
   "metadata": {},
   "outputs": [],
   "source": [
    "#dfs = crim_data_with_rate.groupby('Subcategory')\n",
    "gcp_all = pd.read_csv('/Users/icmec/Documents/project_census_crime/data/2021_census.gcp_all.poa.csv')\n",
    "\n",
    "gcp_all['poa_code_2021'] =  gcp_all['poa_code_2021'].str.extract('(\\d+)')\n",
    "\n",
    "gcp_all = gcp_all.astype( { 'poa_code_2021':'int64' }  )\n",
    "\n",
    "crim_data_with_rate = GetData('''SELECT * FROM prod.\"bocsar.crimestats.rate\";''')\n",
    "\n",
    "for name, group in crim_data_with_rate.groupby('Subcategory'):\n",
    "    gcp_all = gcp_all.merge( group[['Postcode','TotalCrimes','rate']].rename( columns = { 'Postcode':'poa_code_2021' }), left_on = \"poa_code_2021\", right_on = \"poa_code_2021\", how = \"left\")\n",
    "    name = re.sub(r'[^\\w\\s]','',name)\n",
    "    camelCaseName = name.replace(' ','_').lower()\n",
    "    gcp_all.rename( columns= {'TotalCrimes' : f'{camelCaseName}.TotalCrimes' , 'rate':f'{camelCaseName}.rate' } , inplace=True )"
   ]
  },
  {
   "cell_type": "code",
   "execution_count": null,
   "metadata": {},
   "outputs": [],
   "source": [
    "currentDirectory = os.getcwd()\n",
    "gcp_all.to_csv( f'{currentDirectory}/data/2021_census.gcp_all_with_offences.poa.csv', index=False )"
   ]
  },
  {
   "cell_type": "markdown",
   "metadata": {},
   "source": [
    "### <b>Merging  LGA data AND Juvenile CRIME</b>  "
   ]
  },
  {
   "cell_type": "code",
   "execution_count": null,
   "metadata": {},
   "outputs": [],
   "source": [
    "lga_codes_and_names = pd.read_csv(f'{currentDirectory}/data/georef-australia-local-government-area.csv' , usecols=['Official Code Local Government Area','Official Name Local Government Area'],delimiter=';')\n"
   ]
  },
  {
   "cell_type": "code",
   "execution_count": null,
   "metadata": {},
   "outputs": [],
   "source": [
    "lga_codes_and_names.set_index('Official Name Local Government Area', inplace=True)\n"
   ]
  },
  {
   "cell_type": "code",
   "execution_count": null,
   "metadata": {},
   "outputs": [],
   "source": [
    "lga_codes_and_names.rename( columns = {'Official Code Local Government Area':'lga_code'} , inplace = True )\n",
    "lga_codes_and_names.index.name = 'lga_name'"
   ]
  },
  {
   "cell_type": "code",
   "execution_count": null,
   "metadata": {},
   "outputs": [],
   "source": [
    "lga_codes_and_names\n"
   ]
  },
  {
   "cell_type": "code",
   "execution_count": null,
   "metadata": {},
   "outputs": [],
   "source": [
    "juvenile_crime_data = pd.read_excel(f'{currentDirectory}/data/juv_victims_by_lga_gender_age.xlsx')\n"
   ]
  },
  {
   "cell_type": "code",
   "execution_count": null,
   "metadata": {},
   "outputs": [],
   "source": [
    "juvenile_crime_data\n"
   ]
  },
  {
   "cell_type": "code",
   "execution_count": null,
   "metadata": {},
   "outputs": [],
   "source": [
    "merged_code_name_ = juvenile_crime_data.merge( lga_codes_and_names, how='left' , left_on= 'lga' , right_on='Official Name Local Government Area' , ) \n"
   ]
  },
  {
   "cell_type": "code",
   "execution_count": null,
   "metadata": {},
   "outputs": [],
   "source": [
    "merged_code_name = merged_code_name[ ['Homicide', 'Domestic violence related assault',\n",
    "       'Non-domestic violence related assault', 'Sexual offences',\n",
    "       'Abduction and kidnapping', 'Robbery', 'Blackmail and extortion',\n",
    "       'Intimidation, stalking and harassment',\n",
    "       'Other offences against the person', 'Arson',\n",
    "       'Breach Apprehended Violence Order',\n",
    "       'Official Code Local Government Area']  ]"
   ]
  },
  {
   "cell_type": "code",
   "execution_count": null,
   "metadata": {},
   "outputs": [],
   "source": [
    "# Cootamundra-Gandagai == 12160\n",
    "# Hunters Hill == 14100\n",
    "# Unincorporated NSW = 19399\n",
    "# { 19499, 19799}\n",
    "\n",
    "# 14170\n",
    "\n",
    "#merged_code_name.drop([56,73,86,114] , axis = 0 , inplace = True )\n",
    "\n",
    "#a = list(set( juvenile_crime_data['lga']  ) - set(lga_codes_and_names['Official Name Local Government Area']))\n",
    "\n",
    "#merged_code_name['Official Code Local Government Area'] =  merged_code_name['Official Code Local Government Area'].astype(int)"
   ]
  },
  {
   "cell_type": "code",
   "execution_count": null,
   "metadata": {},
   "outputs": [],
   "source": [
    "SendData( merged_code_name, table_name='2021.juvenile_crime_data.stats',index=True,schema_name='stage' , if_exists_flag='replace' )\n"
   ]
  },
  {
   "cell_type": "markdown",
   "metadata": {},
   "source": [
    "#### Joining Juvenile crime AND consolidated lga census data"
   ]
  },
  {
   "cell_type": "code",
   "execution_count": null,
   "metadata": {},
   "outputs": [],
   "source": [
    "merged_code_name.set_index('Official Code Local Government Area', inplace = True)\n"
   ]
  },
  {
   "cell_type": "code",
   "execution_count": null,
   "metadata": {},
   "outputs": [],
   "source": [
    "def getCamelCaseColNames(list_of_columns):\n",
    "    camelCaseName = []\n",
    "    for  name in list_of_columns:\n",
    "        names = re.sub(r'[^\\w\\s]','',name)\n",
    "        camelCaseName.append(f\"{names.replace(' ','_').lower()}.count\")\n",
    "    return camelCaseName"
   ]
  },
  {
   "cell_type": "code",
   "execution_count": null,
   "metadata": {},
   "outputs": [],
   "source": [
    "merged_code_name.columns  =  camelCaseName\n"
   ]
  },
  {
   "cell_type": "code",
   "execution_count": null,
   "metadata": {},
   "outputs": [],
   "source": [
    "#merge\n",
    "consolidated_lga_census_crime = lga_census.merge( merged_code_name, how='inner' , left_on='lga_code_2021', right_index=True )"
   ]
  },
  {
   "cell_type": "code",
   "execution_count": null,
   "metadata": {},
   "outputs": [],
   "source": [
    "for each in merged_code_name.columns:\n",
    "    name, _ = each.split('.')\n",
    "    consolidated_lga_census_crime[ f'{name}.rate' ] =  consolidated_lga_census_crime[each] / consolidated_lga_census_crime['g01.tot_p_p']"
   ]
  },
  {
   "cell_type": "code",
   "execution_count": null,
   "metadata": {},
   "outputs": [],
   "source": [
    "df = pd.read_csv(f'{currentDirectory}/data/2021_census.gcp_all_juvenile_victims.lga.csv')\n"
   ]
  },
  {
   "cell_type": "code",
   "execution_count": null,
   "metadata": {},
   "outputs": [],
   "source": [
    "lga_codes_and_names.reset_index(inplace=True)\n"
   ]
  },
  {
   "cell_type": "code",
   "execution_count": null,
   "metadata": {},
   "outputs": [],
   "source": [
    "lga_codes_and_names\n"
   ]
  },
  {
   "cell_type": "code",
   "execution_count": null,
   "metadata": {},
   "outputs": [],
   "source": [
    "df = df.merge(lga_codes_and_names, how='inner' , left_on='lga_code_2021' , right_on='lga_code'  )\n",
    "df.drop(['lga_code'], inplace =True, axis = 1)\n",
    "df.set_index('lga_name',inplace=True)\n",
    "df.index.rename = '2021.lga_name'\n",
    "\n",
    "\n",
    "df_copy = df.copy( deep=True)\n",
    "df_copy = df_copy.replace('..',np.nan)\n",
    "df_copy.infer_objects().dtypes\n",
    "df_copy.T\n",
    "\n",
    "\n",
    "SendData(df_copy.T,table_name='2021_census.gcp_all_juvenile_victims.lga', schema_name = 'prod' , if_exists_flag = 'replace' , index=True )\n",
    "GetData( '''SELECT * FROM prod.\"2021_census.gcp_all_juvenile_victims.lga\" LIMIT 10'''  ).T\n",
    "\n",
    "consolidated_lga_census_crime.to_csv(f'{currentDirectory}/data/2021_census.gcp_all_juvenile_victims.lga.csv', index=False)\n",
    "SendData(consolidated_lga_census_crime.T,table_name='2021_census.gcp_all_juvenile_victims.lga', schema_name = 'prod' , if_exists_flag = 'replace' , index=True )"
   ]
  },
  {
   "cell_type": "markdown",
   "metadata": {},
   "source": [
    "### <b>Merging  LGA data AND Offenders</b> "
   ]
  },
  {
   "cell_type": "code",
   "execution_count": null,
   "metadata": {},
   "outputs": [],
   "source": [
    "lga_codes_and_names = pd.read_csv(f'{currentDirectory}/data/lga/lga_code_and_names.csv')\n",
    "lga_offenders_10_17 = pd.read_csv(f'{currentDirectory}/data/lga/lga.offenders_10_17.csv')\n",
    "\n",
    "print(f'lga_codes_and_names = {lga_codes_and_names.shape}' )\n",
    "print(f'lga_offenders_10_17 = {lga_offenders_10_17.shape}' )\n",
    "\n",
    "display(lga_codes_and_names.head(5))\n",
    "display(lga_offenders_10_17.head(5))"
   ]
  },
  {
   "cell_type": "code",
   "execution_count": null,
   "metadata": {},
   "outputs": [],
   "source": [
    "lgaJuvenileOffenders_lgaName = lga_offenders_10_17.merge( lga_codes_and_names , left_on='lga' , right_on='lga', how = 'inner' )\n"
   ]
  },
  {
   "cell_type": "code",
   "execution_count": null,
   "metadata": {},
   "outputs": [],
   "source": [
    "lgaJuvenileOffenders_lgaName.set_index('lga', inplace = True)\n",
    "lgaJuvenileOffenders_lgaName"
   ]
  },
  {
   "cell_type": "code",
   "execution_count": null,
   "metadata": {},
   "outputs": [],
   "source": [
    "def getCamelCaseColNames(list_of_columns):\n",
    "    camelCaseName = []\n",
    "    for  name in list_of_columns:\n",
    "        names = re.sub(r'[^\\w\\s]','',name)\n",
    "        camelCaseName.append(f\"{names.replace(' ','_').lower()}.count\")\n",
    "    return camelCaseName\n",
    "\n",
    "camelCaseColNames = getCamelCaseColNames(lgaJuvenileOffenders_lgaName.columns)"
   ]
  },
  {
   "cell_type": "code",
   "execution_count": null,
   "metadata": {},
   "outputs": [],
   "source": [
    "lgaJuvenileOffenders_lgaName.columns = camelCaseColNames\n"
   ]
  },
  {
   "cell_type": "code",
   "execution_count": null,
   "metadata": {},
   "outputs": [],
   "source": [
    "lgaJuvenileOffenders_lgaName.rename(columns= {'lga_code_2021.count':'lga_code_2021'}, inplace=True)\n"
   ]
  },
  {
   "cell_type": "code",
   "execution_count": null,
   "metadata": {},
   "outputs": [],
   "source": [
    "lga_census['lga_code_2021'] =  lga_census['lga_code_2021'].str.extract('(\\d+)')\n",
    "\n",
    "lga_census['lga_code_2021'] = lga_census['lga_code_2021'].astype(int)\n"
   ]
  },
  {
   "cell_type": "code",
   "execution_count": null,
   "metadata": {},
   "outputs": [],
   "source": [
    "lgaCensus_juvenileOffenders =  lga_census.merge(lgaJuvenileOffenders_lgaName,left_on='lga_code_2021',right_on='lga_code_2021',how='inner')\n",
    "\n",
    "#======================================================================================================================================\n",
    "\n",
    "\n",
    "for each in lgaJuvenileOffenders_lgaName.columns[1:-1]:\n",
    "    name, _ = each.split('.')\n",
    "    lgaCensus_juvenileOffenders[ f'{name}.rate' ] =  lgaCensus_juvenileOffenders[each] / lgaCensus_juvenileOffenders['g01.tot_p_p']\n",
    "\n",
    "#======================================================================================================================================\n",
    "\n",
    "lgaCensus_juvenileOffenders.set_index('lga_name',inplace = True)\n",
    "lgaCensus_juvenileOffenders.replace('..',np.nan, inplace=True)\n",
    "\n",
    "\n",
    "#======================================================================================================================================\n",
    "\n",
    "SendData(lgaCensus_juvenileOffenders.T,table_name='2021_census.gcp_all_juvenile_offenders.lga', schema_name = 'prod' , if_exists_flag = 'replace' , index=True )"
   ]
  },
  {
   "cell_type": "code",
   "execution_count": null,
   "metadata": {},
   "outputs": [],
   "source": [
    "## Save the LGA offenders  data from postgres to the archive folder \n",
    "gcp_all_juvenile_offenders = GetData(sql='SELECT * FROM prod.\"2021_census.gcp_all_juvenile_offenders.lga\"')\n",
    "gcp_all_juvenile_offenders = gcp_all_juvenile_offenders.T\n",
    "gcp_all_juvenile_offenders = gcp_all_juvenile_offenders.rename(columns=gcp_all_juvenile_offenders.iloc[0]).drop(gcp_all_juvenile_offenders.index[0])"
   ]
  },
  {
   "cell_type": "code",
   "execution_count": null,
   "metadata": {},
   "outputs": [],
   "source": [
    "currentDirectory = os.getcwd()\n",
    "gcp_all_juvenile_offenders.to_csv(f'{currentDirectory}/data/lga/2021_census.gcp_all_juvenile_offenders.lga.csv',index=True)"
   ]
  },
  {
   "cell_type": "markdown",
   "metadata": {},
   "source": [
    "## MERGING THE CENSUS 2016 AND CRIME 2016 DATA. "
   ]
  },
  {
   "cell_type": "code",
   "execution_count": null,
   "metadata": {},
   "outputs": [],
   "source": [
    "lga_census_2016 = pd.read_csv('/Users/icmec/Documents/project_census_crime/data/lga/2016_census.gcp_all.lga.csv' , index_col=0 )\n",
    "lga_codes_names = pd.read_csv('/Users/icmec/Documents/project_census_crime/data/lga/lga_code_and_names.csv')\n",
    "lga_census_2021 = pd.read_csv('/Users/icmec/Documents/project_census_crime/data/lga/2021_census.gcp_all_juvenile_victims_with_names.lga.csv')\n",
    "\n",
    "crime_data_2016 = pd.read_csv('/Users/icmec/Documents/project_census_crime/data/lga/2016_crime_data.csv')"
   ]
  },
  {
   "cell_type": "code",
   "execution_count": null,
   "metadata": {},
   "outputs": [],
   "source": [
    "lga_census_2016['lga_code_2016'] =  lga_census_2016['lga_code_2016'].str.extract('(\\d+)')\n",
    "lga_census_2016['lga_code_2016'] = lga_census_2016['lga_code_2016'].astype(int)"
   ]
  },
  {
   "cell_type": "code",
   "execution_count": null,
   "metadata": {},
   "outputs": [],
   "source": [
    "#merging to get LGA names \n",
    "lga_census_2016_with_names =  lga_codes_names.merge(lga_census_2016 , left_on='lga_code_2021',right_on='lga_code_2016',how='inner'  )"
   ]
  },
  {
   "cell_type": "code",
   "execution_count": null,
   "metadata": {},
   "outputs": [],
   "source": [
    "#merging the LGA census and crime data\n",
    "lga_census_2016_with_names.drop('lga_code_2021',axis=1,inplace=True)\n",
    "lga_census_2016_with_names_crime = lga_census_2016_with_names.merge(crime_data_2016,left_on='Unnamed: 0',right_on='LGA',how='inner')\n",
    "lga_census_2016_with_names_crime"
   ]
  },
  {
   "cell_type": "code",
   "execution_count": null,
   "metadata": {},
   "outputs": [],
   "source": [
    "#computing the rate of crime \n",
    "for each in crime_data_2016.columns[1:]:\n",
    "    name, _ = each.split('.')\n",
    "    print(name)\n",
    "    lga_census_2016_with_names_crime[ f'{name}.rate' ] =  lga_census_2016_with_names_crime[each] / lga_census_2016_with_names_crime['g01.tot_p_p']"
   ]
  },
  {
   "cell_type": "code",
   "execution_count": null,
   "metadata": {},
   "outputs": [],
   "source": [
    "lga_census_2016_with_names_crime.rename( columns = { 'Unnamed: 0':'lga_name' } , inplace = True )\n",
    "lga_census_2016_with_names_crime\n",
    "lga_census_2016_with_names_crime.to_csv( '/Users/icmec/Documents/project_census_crime/data/lga/2016_census.gcp_all_juvenile_victims_with_names.lga.csv' )"
   ]
  },
  {
   "cell_type": "code",
   "execution_count": null,
   "metadata": {},
   "outputs": [],
   "source": [
    " \n",
    "lga_census_2016_with_names_crime.drop('LGA' , axis=1 , inplace= True)\n",
    "transformed_ = lga_census_2016_with_names_crime.T\n",
    "transformed_.columns = transformed_.iloc[0]\n",
    "transformed_1 =  transformed_.iloc[1:].replace('..',np.nan)\n",
    "transformed_1.astype('float')\n",
    "transformed_1.reset_index()\n",
    "SendData( transformed_1 , table_name= '2016_census.gcp_all_juvenile_victims.lga' ,schema_name='prod',if_exists_flag='replace' , index=True )\n",
    "# SendData( transformed_.iloc[1:] , table_name= '2016_census.gcp_all_juvenile_victims.lga' ,schema_name='prod',if_exists_flag='replace' )"
   ]
  },
  {
   "cell_type": "markdown",
   "metadata": {},
   "source": [
    "## Merging the QLD Census and Crime"
   ]
  },
  {
   "cell_type": "code",
   "execution_count": null,
   "metadata": {},
   "outputs": [],
   "source": [
    "#nameLgaQld = pd.read_csv('/Users/icmec/Documents/project_census_crime/data/crime/georef-australia-local-government-area.csv' , delimiter=';' , usecols = [\"Official Code Local Government Area\",\"Official Name Local Government Area\",\"Long Official Name Local Government Area\"] , index_col=0 )\n",
    "#nameLgaQld.index.name = 'lga_code_2021'\n",
    "#nameLgaQld.sort_values('Official Name Local Government Area')\n",
    "nameLgaQld.sort_values('Official Name Local Government Area').to_csv('/Users/icmec/Documents/project_census_crime/data/crime/nameLgaQld.csv', index=True)"
   ]
  },
  {
   "cell_type": "code",
   "execution_count": 20,
   "metadata": {},
   "outputs": [],
   "source": [
    "qld_census = pd.read_csv('https://data-lake-icmec-au.s3.ap-southeast-2.amazonaws.com/projectCrimeCensus/landingZone/2021_census.gcp_all.lga_qld.csv' )\n",
    "lgaNameQld = pd.read_csv('/Users/icmec/Documents/project_census_crime/data/crime/nameLgaQld.csv')\n",
    "VictimsCrimeQld = pd.read_csv('/Users/icmec/Documents/project_census_crime/data/crime/victimeCrimeQld.csv')\n"
   ]
  },
  {
   "cell_type": "code",
   "execution_count": 35,
   "metadata": {},
   "outputs": [],
   "source": [
    "VictimsCrimeQld.T.to_csv('/Users/icmec/Documents/project_census_crime/data/crime/transformedVictimeCrimeQld.csv',header=False)\n",
    "#pd.DataFrame(VictimsCrimeQld.columns ,  columns= ['Crimes'] , index=None ).sort_values('Crimes').to_clipboard()"
   ]
  },
  {
   "cell_type": "markdown",
   "metadata": {},
   "source": [
    "#where we left of is at name   mapping the crime of QLD to NSW data"
   ]
  }
 ],
 "metadata": {
  "kernelspec": {
   "display_name": "etl",
   "language": "python",
   "name": "etl"
  },
  "language_info": {
   "codemirror_mode": {
    "name": "ipython",
    "version": 3
   },
   "file_extension": ".py",
   "mimetype": "text/x-python",
   "name": "python",
   "nbconvert_exporter": "python",
   "pygments_lexer": "ipython3",
   "version": "3.9.6"
  },
  "orig_nbformat": 4,
  "vscode": {
   "interpreter": {
    "hash": "b0fa6594d8f4cbf19f97940f81e996739fb7646882a419484c72d19e05852a7e"
   }
  }
 },
 "nbformat": 4,
 "nbformat_minor": 2
}
